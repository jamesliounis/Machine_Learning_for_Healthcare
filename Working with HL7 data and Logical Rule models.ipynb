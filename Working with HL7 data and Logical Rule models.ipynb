{
 "cells": [
  {
   "cell_type": "code",
   "execution_count": 1,
   "id": "c5a88463",
   "metadata": {},
   "outputs": [],
   "source": [
    "import os\n",
    "import pandas as pd\n",
    "\n",
    "from sklearn.metrics import f1_score"
   ]
  },
  {
   "cell_type": "markdown",
   "id": "8f6a0376",
   "metadata": {},
   "source": [
    "# Question 8"
   ]
  },
  {
   "cell_type": "markdown",
   "id": "f355aa7c",
   "metadata": {},
   "source": [
    "You will not get anywhere with your models, if you cannot make them read clinical data…\n",
    "To answer the next question, you will have to write code processing a set of HL7 messages (saved as plain text files).  The messages are located in the Clinical_HL7_Samples/ subfolders (loaded from a public HL7 test repository)\n"
   ]
  },
  {
   "cell_type": "markdown",
   "id": "0dedcce0",
   "metadata": {},
   "source": [
    "In what year was the youngest male patient born?"
   ]
  },
  {
   "cell_type": "code",
   "execution_count": 2,
   "id": "f546a6a4",
   "metadata": {},
   "outputs": [
    {
     "name": "stdout",
     "output_type": "stream",
     "text": [
      "The youngest male patient was born in 2013 .\n"
     ]
    }
   ],
   "source": [
    "# Define a function to design the desired structure to store the HL7 messages:\n",
    "# {folder_name:{message_name:message}}\n",
    "\n",
    "def make_hl7_dict(root_folder):\n",
    "    \n",
    "    hl7_dict = {}\n",
    "    \n",
    "    # Iterate through folders in root folder\n",
    "    for folder_name in os.listdir(root_folder):\n",
    "        folder_path = os.path.join(root_folder, folder_name)\n",
    "        \n",
    "        # Checking if it's a directory\n",
    "        if os.path.isdir(folder_path):\n",
    "            folder_dict = {}\n",
    "            for txt_file_name in os.listdir(folder_path):\n",
    "                txt_file_path = os.path.join(folder_path, txt_file_name)\n",
    "                \n",
    "                # Retrieving text files exclusively\n",
    "                if txt_file_name.endswith('.txt'):\n",
    "                    with open(txt_file_path, 'r') as f:\n",
    "                        message = f.read()\n",
    "                        folder_dict[txt_file_name] = message\n",
    "            hl7_dict[folder_name] = folder_dict\n",
    "            \n",
    "    return hl7_dict\n",
    "\n",
    "\n",
    "# Using absolute path of root folder\n",
    "root_folder = \"/Users/jamesliounis/Documents/Harvard SM DS/NCE512/NCE_512_Problem_Sets/NCE512_PS1/Clinical_HL7_Samples\"\n",
    "\n",
    "# Invoking previously defined function on root folder \n",
    "hl7_dict = make_hl7_dict(root_folder)\n",
    "\n",
    "# Create list to store unique messages\n",
    "unique_messages = []\n",
    "\n",
    "# Iterate through the dictionaries that store the messages\n",
    "for message_dict in hl7_dict.values():\n",
    "    # Iterate through  messages\n",
    "    for message in message_dict.values():\n",
    "        # Retrieve individual messages, splitting on new line as per Hl7 guidelines\n",
    "        unique_messages.append(message.split(\"n\"))\n",
    "        \n",
    "\n",
    "# Define a function to extract DOB from HL7 string\n",
    "def extract_dob(hl7_string):\n",
    "    hl7_fields = hl7_string.split(\"|\")\n",
    "    dob_field = None\n",
    "    for field in hl7_fields:\n",
    "        if len(field) == 8 and field.isdigit():\n",
    "            dob_field = field\n",
    "            break\n",
    "    return dob_field\n",
    "\n",
    "\n",
    "# Create list to store full DOB, from which we will retrieve YOB\n",
    "DOBs = []\n",
    "\n",
    "# Iterate through unique messages\n",
    "for message in unique_messages:\n",
    "    \n",
    "    # Iterate through individual HL7 strings\n",
    "    for hl7_string in message:\n",
    "        \n",
    "        # Invoke previously defined function to retrieve DOB\n",
    "        DOBs.append(extract_dob(hl7_string))\n",
    "        \n",
    "# Extracting first 4 digits (YOB)\n",
    "YOBs = [int(dob[:4]) for dob in DOBs if dob is not None]\n",
    "\n",
    "# Retrieving largest value\n",
    "YOB_of_youngest_male = max(YOBs)\n",
    "\n",
    "print(\"The youngest male patient was born in\", YOB_of_youngest_male,\".\")\n"
   ]
  },
  {
   "cell_type": "markdown",
   "id": "7affd46d",
   "metadata": {},
   "source": [
    "# Question 9"
   ]
  },
  {
   "cell_type": "markdown",
   "id": "21d07851",
   "metadata": {},
   "source": [
    "Mining logical rule models from the raw data can help us discover extremely efficient, interpretable patterns, often leading to optimal decision-making. To work on this problem, use COVID_Data_Small.xlsx file, provided with this homework – it contains “close to real” data on a large number of ED patients during the first COVID outbreak in Spring of 2020. The target variable is Outcome_48Hours_Dispo – whether the patient was placed on high oxygen support within 48 hours since hospital admission (disposition). Our goal is to use the other variables to discover, which ones of them, and under what conditions, are closely correlated with his outcome. \n",
    "\n",
    "When running logical rule models with the code explained in the class, what COVID risk pattern is identified by the most accurate rule?\n"
   ]
  },
  {
   "cell_type": "code",
   "execution_count": 3,
   "id": "af1c82d5",
   "metadata": {},
   "outputs": [],
   "source": [
    "PATH = \"/Users/jamesliounis/Documents/Harvard SM DS/NCE512/NCE_512_Problem_Sets/NCE512_PS1/COVID_Data_Small.xlsx\"\n",
    "\n",
    "covid_df = pd.read_excel(PATH)"
   ]
  },
  {
   "cell_type": "code",
   "execution_count": 4,
   "id": "346c2f7b",
   "metadata": {},
   "outputs": [
    {
     "data": {
      "text/html": [
       "<div>\n",
       "<style scoped>\n",
       "    .dataframe tbody tr th:only-of-type {\n",
       "        vertical-align: middle;\n",
       "    }\n",
       "\n",
       "    .dataframe tbody tr th {\n",
       "        vertical-align: top;\n",
       "    }\n",
       "\n",
       "    .dataframe thead th {\n",
       "        text-align: right;\n",
       "    }\n",
       "</style>\n",
       "<table border=\"1\" class=\"dataframe\">\n",
       "  <thead>\n",
       "    <tr style=\"text-align: right;\">\n",
       "      <th></th>\n",
       "      <th>Arrival_Date</th>\n",
       "      <th>AgeYears</th>\n",
       "      <th>Temperature</th>\n",
       "      <th>BMI</th>\n",
       "      <th>AvgReading_Neuts_pct</th>\n",
       "      <th>Respiration_Rate</th>\n",
       "      <th>HasConnectiveTissueDisorderFLG</th>\n",
       "      <th>O2_Saturation</th>\n",
       "      <th>MaleFLG</th>\n",
       "      <th>Outcome_48Hours_Dispo</th>\n",
       "      <th>Rand</th>\n",
       "    </tr>\n",
       "  </thead>\n",
       "  <tbody>\n",
       "    <tr>\n",
       "      <th>0</th>\n",
       "      <td>2020-05-28</td>\n",
       "      <td>75.833333</td>\n",
       "      <td>98.0</td>\n",
       "      <td>36.3</td>\n",
       "      <td>75.6</td>\n",
       "      <td>98</td>\n",
       "      <td>1</td>\n",
       "      <td>99</td>\n",
       "      <td>1</td>\n",
       "      <td>0</td>\n",
       "      <td>0.055920</td>\n",
       "    </tr>\n",
       "    <tr>\n",
       "      <th>1</th>\n",
       "      <td>2020-03-10</td>\n",
       "      <td>0.916667</td>\n",
       "      <td>102.0</td>\n",
       "      <td>34.6</td>\n",
       "      <td>71.2</td>\n",
       "      <td>70</td>\n",
       "      <td>0</td>\n",
       "      <td>98</td>\n",
       "      <td>0</td>\n",
       "      <td>1</td>\n",
       "      <td>0.112461</td>\n",
       "    </tr>\n",
       "    <tr>\n",
       "      <th>2</th>\n",
       "      <td>2020-05-29</td>\n",
       "      <td>61.083333</td>\n",
       "      <td>97.5</td>\n",
       "      <td>25.3</td>\n",
       "      <td>68.4</td>\n",
       "      <td>61</td>\n",
       "      <td>1</td>\n",
       "      <td>99</td>\n",
       "      <td>1</td>\n",
       "      <td>0</td>\n",
       "      <td>0.031409</td>\n",
       "    </tr>\n",
       "    <tr>\n",
       "      <th>3</th>\n",
       "      <td>2020-05-11</td>\n",
       "      <td>56.166667</td>\n",
       "      <td>97.9</td>\n",
       "      <td>30.3</td>\n",
       "      <td>96.5</td>\n",
       "      <td>56</td>\n",
       "      <td>0</td>\n",
       "      <td>98</td>\n",
       "      <td>1</td>\n",
       "      <td>1</td>\n",
       "      <td>0.720525</td>\n",
       "    </tr>\n",
       "    <tr>\n",
       "      <th>4</th>\n",
       "      <td>2020-06-19</td>\n",
       "      <td>41.916667</td>\n",
       "      <td>97.0</td>\n",
       "      <td>34.1</td>\n",
       "      <td>53.7</td>\n",
       "      <td>56</td>\n",
       "      <td>0</td>\n",
       "      <td>100</td>\n",
       "      <td>0</td>\n",
       "      <td>0</td>\n",
       "      <td>0.047407</td>\n",
       "    </tr>\n",
       "  </tbody>\n",
       "</table>\n",
       "</div>"
      ],
      "text/plain": [
       "  Arrival_Date   AgeYears  Temperature   BMI  AvgReading_Neuts_pct  \\\n",
       "0   2020-05-28  75.833333         98.0  36.3                  75.6   \n",
       "1   2020-03-10   0.916667        102.0  34.6                  71.2   \n",
       "2   2020-05-29  61.083333         97.5  25.3                  68.4   \n",
       "3   2020-05-11  56.166667         97.9  30.3                  96.5   \n",
       "4   2020-06-19  41.916667         97.0  34.1                  53.7   \n",
       "\n",
       "   Respiration_Rate  HasConnectiveTissueDisorderFLG  O2_Saturation  MaleFLG  \\\n",
       "0                98                               1             99        1   \n",
       "1                70                               0             98        0   \n",
       "2                61                               1             99        1   \n",
       "3                56                               0             98        1   \n",
       "4                56                               0            100        0   \n",
       "\n",
       "   Outcome_48Hours_Dispo      Rand  \n",
       "0                      0  0.055920  \n",
       "1                      1  0.112461  \n",
       "2                      0  0.031409  \n",
       "3                      1  0.720525  \n",
       "4                      0  0.047407  "
      ]
     },
     "execution_count": 4,
     "metadata": {},
     "output_type": "execute_result"
    }
   ],
   "source": [
    "# EDA\n",
    "\n",
    "covid_df.head()"
   ]
  },
  {
   "cell_type": "code",
   "execution_count": 5,
   "id": "8c961778",
   "metadata": {},
   "outputs": [
    {
     "data": {
      "text/html": [
       "<div>\n",
       "<style scoped>\n",
       "    .dataframe tbody tr th:only-of-type {\n",
       "        vertical-align: middle;\n",
       "    }\n",
       "\n",
       "    .dataframe tbody tr th {\n",
       "        vertical-align: top;\n",
       "    }\n",
       "\n",
       "    .dataframe thead th {\n",
       "        text-align: right;\n",
       "    }\n",
       "</style>\n",
       "<table border=\"1\" class=\"dataframe\">\n",
       "  <thead>\n",
       "    <tr style=\"text-align: right;\">\n",
       "      <th></th>\n",
       "      <th>AgeYears</th>\n",
       "      <th>Temperature</th>\n",
       "      <th>BMI</th>\n",
       "      <th>AvgReading_Neuts_pct</th>\n",
       "      <th>Respiration_Rate</th>\n",
       "      <th>HasConnectiveTissueDisorderFLG</th>\n",
       "      <th>O2_Saturation</th>\n",
       "      <th>MaleFLG</th>\n",
       "      <th>Outcome_48Hours_Dispo</th>\n",
       "      <th>Rand</th>\n",
       "    </tr>\n",
       "  </thead>\n",
       "  <tbody>\n",
       "    <tr>\n",
       "      <th>count</th>\n",
       "      <td>6004.000000</td>\n",
       "      <td>6004.000000</td>\n",
       "      <td>6004.00000</td>\n",
       "      <td>6004.000000</td>\n",
       "      <td>6004.000000</td>\n",
       "      <td>6004.000000</td>\n",
       "      <td>6004.000000</td>\n",
       "      <td>6004.000000</td>\n",
       "      <td>6004.000000</td>\n",
       "      <td>6004.000000</td>\n",
       "    </tr>\n",
       "    <tr>\n",
       "      <th>mean</th>\n",
       "      <td>57.190734</td>\n",
       "      <td>98.263175</td>\n",
       "      <td>29.60708</td>\n",
       "      <td>70.416039</td>\n",
       "      <td>19.455696</td>\n",
       "      <td>0.323784</td>\n",
       "      <td>97.106929</td>\n",
       "      <td>0.500500</td>\n",
       "      <td>0.392572</td>\n",
       "      <td>0.223282</td>\n",
       "    </tr>\n",
       "    <tr>\n",
       "      <th>std</th>\n",
       "      <td>20.197951</td>\n",
       "      <td>1.065284</td>\n",
       "      <td>50.80480</td>\n",
       "      <td>13.456411</td>\n",
       "      <td>4.838267</td>\n",
       "      <td>0.467958</td>\n",
       "      <td>2.625410</td>\n",
       "      <td>0.500041</td>\n",
       "      <td>0.488363</td>\n",
       "      <td>0.286020</td>\n",
       "    </tr>\n",
       "    <tr>\n",
       "      <th>min</th>\n",
       "      <td>0.000000</td>\n",
       "      <td>85.000000</td>\n",
       "      <td>7.60000</td>\n",
       "      <td>4.000000</td>\n",
       "      <td>0.000000</td>\n",
       "      <td>0.000000</td>\n",
       "      <td>18.000000</td>\n",
       "      <td>0.000000</td>\n",
       "      <td>0.000000</td>\n",
       "      <td>0.000002</td>\n",
       "    </tr>\n",
       "    <tr>\n",
       "      <th>25%</th>\n",
       "      <td>41.833333</td>\n",
       "      <td>97.700000</td>\n",
       "      <td>23.60000</td>\n",
       "      <td>61.800000</td>\n",
       "      <td>17.000000</td>\n",
       "      <td>0.000000</td>\n",
       "      <td>96.000000</td>\n",
       "      <td>0.000000</td>\n",
       "      <td>0.000000</td>\n",
       "      <td>0.034448</td>\n",
       "    </tr>\n",
       "    <tr>\n",
       "      <th>50%</th>\n",
       "      <td>59.333333</td>\n",
       "      <td>98.200000</td>\n",
       "      <td>27.50000</td>\n",
       "      <td>71.900000</td>\n",
       "      <td>18.000000</td>\n",
       "      <td>0.000000</td>\n",
       "      <td>97.000000</td>\n",
       "      <td>1.000000</td>\n",
       "      <td>0.000000</td>\n",
       "      <td>0.069807</td>\n",
       "    </tr>\n",
       "    <tr>\n",
       "      <th>75%</th>\n",
       "      <td>72.666667</td>\n",
       "      <td>98.700000</td>\n",
       "      <td>32.60000</td>\n",
       "      <td>80.800000</td>\n",
       "      <td>20.000000</td>\n",
       "      <td>1.000000</td>\n",
       "      <td>99.000000</td>\n",
       "      <td>1.000000</td>\n",
       "      <td>1.000000</td>\n",
       "      <td>0.376334</td>\n",
       "    </tr>\n",
       "    <tr>\n",
       "      <th>max</th>\n",
       "      <td>106.500000</td>\n",
       "      <td>105.100000</td>\n",
       "      <td>3912.70000</td>\n",
       "      <td>97.000000</td>\n",
       "      <td>98.000000</td>\n",
       "      <td>1.000000</td>\n",
       "      <td>100.000000</td>\n",
       "      <td>1.000000</td>\n",
       "      <td>1.000000</td>\n",
       "      <td>0.999802</td>\n",
       "    </tr>\n",
       "  </tbody>\n",
       "</table>\n",
       "</div>"
      ],
      "text/plain": [
       "          AgeYears  Temperature         BMI  AvgReading_Neuts_pct  \\\n",
       "count  6004.000000  6004.000000  6004.00000           6004.000000   \n",
       "mean     57.190734    98.263175    29.60708             70.416039   \n",
       "std      20.197951     1.065284    50.80480             13.456411   \n",
       "min       0.000000    85.000000     7.60000              4.000000   \n",
       "25%      41.833333    97.700000    23.60000             61.800000   \n",
       "50%      59.333333    98.200000    27.50000             71.900000   \n",
       "75%      72.666667    98.700000    32.60000             80.800000   \n",
       "max     106.500000   105.100000  3912.70000             97.000000   \n",
       "\n",
       "       Respiration_Rate  HasConnectiveTissueDisorderFLG  O2_Saturation  \\\n",
       "count       6004.000000                     6004.000000    6004.000000   \n",
       "mean          19.455696                        0.323784      97.106929   \n",
       "std            4.838267                        0.467958       2.625410   \n",
       "min            0.000000                        0.000000      18.000000   \n",
       "25%           17.000000                        0.000000      96.000000   \n",
       "50%           18.000000                        0.000000      97.000000   \n",
       "75%           20.000000                        1.000000      99.000000   \n",
       "max           98.000000                        1.000000     100.000000   \n",
       "\n",
       "           MaleFLG  Outcome_48Hours_Dispo         Rand  \n",
       "count  6004.000000            6004.000000  6004.000000  \n",
       "mean      0.500500               0.392572     0.223282  \n",
       "std       0.500041               0.488363     0.286020  \n",
       "min       0.000000               0.000000     0.000002  \n",
       "25%       0.000000               0.000000     0.034448  \n",
       "50%       1.000000               0.000000     0.069807  \n",
       "75%       1.000000               1.000000     0.376334  \n",
       "max       1.000000               1.000000     0.999802  "
      ]
     },
     "execution_count": 5,
     "metadata": {},
     "output_type": "execute_result"
    }
   ],
   "source": [
    "covid_df.describe()"
   ]
  },
  {
   "cell_type": "code",
   "execution_count": 6,
   "id": "f089f281",
   "metadata": {},
   "outputs": [
    {
     "data": {
      "text/plain": [
       "Arrival_Date                       object\n",
       "AgeYears                          float64\n",
       "Temperature                       float64\n",
       "BMI                               float64\n",
       "AvgReading_Neuts_pct              float64\n",
       "Respiration_Rate                    int64\n",
       "HasConnectiveTissueDisorderFLG      int64\n",
       "O2_Saturation                       int64\n",
       "MaleFLG                             int64\n",
       "Outcome_48Hours_Dispo               int64\n",
       "Rand                              float64\n",
       "dtype: object"
      ]
     },
     "execution_count": 6,
     "metadata": {},
     "output_type": "execute_result"
    }
   ],
   "source": [
    "covid_df.dtypes"
   ]
  },
  {
   "cell_type": "code",
   "execution_count": 7,
   "id": "0096a2c4",
   "metadata": {},
   "outputs": [],
   "source": [
    "covid_df.dtypes\n",
    "covid_df = covid_df.applymap(lambda x: pd.to_numeric(x, errors='ignore'))"
   ]
  },
  {
   "cell_type": "markdown",
   "id": "e6399631",
   "metadata": {},
   "source": [
    "We can see here that all data types are the appropriate ones. The only issue is that arrival date cannot be used in a logical rule model. Hence, we have to drop it. "
   ]
  },
  {
   "cell_type": "code",
   "execution_count": 8,
   "id": "9821c4d4",
   "metadata": {},
   "outputs": [
    {
     "name": "stdout",
     "output_type": "stream",
     "text": [
      "The dataframe contains 6004 records.\n"
     ]
    }
   ],
   "source": [
    "# Total record count:\n",
    "\n",
    "nRecords = len(covid_df)\n",
    "print(\"The dataframe contains\",nRecords,'records.')"
   ]
  },
  {
   "cell_type": "code",
   "execution_count": 9,
   "id": "9c5716d3",
   "metadata": {},
   "outputs": [],
   "source": [
    "# Specify original features to choose from\n",
    "features = [i for i in covid_df.columns]\n",
    "\n",
    "# Remove the dependent variable from these features\n",
    "features.remove('Outcome_48Hours_Dispo')\n",
    "features.remove('Arrival_Date')\n",
    "features.remove('Rand')"
   ]
  },
  {
   "cell_type": "code",
   "execution_count": 10,
   "id": "02cd98a6",
   "metadata": {},
   "outputs": [],
   "source": [
    "# List of quantiles\n",
    "nQ = 4     # Specify number of quantiles\n",
    "dQ = 1.0/nQ  # Quantile increment\n",
    "quantile_list = [x*dQ for x in range(nQ)]"
   ]
  },
  {
   "cell_type": "code",
   "execution_count": 11,
   "id": "a8b36deb",
   "metadata": {},
   "outputs": [],
   "source": [
    "# List of processed models (rules)\n",
    "\n",
    "RuleList = []\n",
    "RuleCount = 0\n",
    "\n",
    "# Find best logical models\n",
    "for nVar1 in range(len(features)):   # set first feature\n",
    "    feat1 = features[nVar1]\n",
    "    for nVar2 in range(nVar1+1, len(features)):  # set second covariate\n",
    "        feat2 = features[nVar2]\n",
    "        for val1, val1_top in [(covid_df[feat1].quantile(q), \n",
    "                                  covid_df[feat1].quantile(q+dQ)) for q in quantile_list]:\n",
    "            \n",
    "            for val2, val2_top in [(covid_df[feat2].quantile(q), \n",
    "                                  covid_df[feat2].quantile(q+dQ)) for q in quantile_list]:\n",
    "            \n",
    "                # Define new logical rule\n",
    "                # rule = (df[var1]>val1) | (df[var2]>val2)\n",
    "                decision_rule = (covid_df[feat1]>val1) & (covid_df[feat1]<val1_top) | (covid_df[feat2]>val2) & (covid_df[feat2]<val2_top) \n",
    "\n",
    "                # Increment Rule Count\n",
    "                RuleCount = RuleCount + 1\n",
    "\n",
    "                # Check if we have at least % of the population matching rule\n",
    "                # Using a mask\n",
    "                rule_df = covid_df[decision_rule]\n",
    "                if rule_df.shape[0] < 0.01 * nRecords:\n",
    "                    continue    # rare condition, skip\n",
    "\n",
    "                # Compute fit metric of rule\n",
    "                ModelFit = f1_score(covid_df['Outcome_48Hours_Dispo'], \n",
    "                                                    decision_rule)\n",
    "\n",
    "                # Record new rule model\n",
    "                rule_tuple = (feat1, feat2)\n",
    "                RuleList.append((round(ModelFit, 4), rule_tuple))\n",
    "            \n",
    "            \n",
    "\n",
    "            "
   ]
  },
  {
   "cell_type": "code",
   "execution_count": 12,
   "id": "8af85363",
   "metadata": {},
   "outputs": [
    {
     "name": "stdout",
     "output_type": "stream",
     "text": [
      "Rules processed: 448\n"
     ]
    }
   ],
   "source": [
    "print('Rules processed:', RuleCount)\n",
    "RuleList.sort(key=lambda rule: -rule[0])\n",
    "\n",
    "# Get lsit of quality values\n",
    "fit_list = [f for f,_ in RuleList]"
   ]
  },
  {
   "cell_type": "markdown",
   "id": "3fa91a9e",
   "metadata": {},
   "source": [
    "When running logical rule models with the code explained in the class, what COVID risk pattern is identified by the most accurate rule?\n",
    "- A)\tHigh neutrophils or High respiration rate\n",
    "- B)\tHigh BMI and High neutrophils\n",
    "- C)\tHigh BMI or Low oxygen saturation\n",
    "- D)\tHigh age and High temperature\n"
   ]
  },
  {
   "cell_type": "code",
   "execution_count": 15,
   "id": "098216a5",
   "metadata": {},
   "outputs": [
    {
     "name": "stdout",
     "output_type": "stream",
     "text": [
      "COVID risk pattern is identified by the most accurate rule:\n",
      "(0.5182, ('AvgReading_Neuts_pct', 'Respiration_Rate'))\n"
     ]
    }
   ],
   "source": [
    "print(\"COVID risk pattern is identified by the most accurate rule:\")\n",
    "print(RuleList[0])"
   ]
  },
  {
   "cell_type": "code",
   "execution_count": null,
   "id": "551427eb",
   "metadata": {},
   "outputs": [],
   "source": []
  }
 ],
 "metadata": {
  "kernelspec": {
   "display_name": "Python 3 (ipykernel)",
   "language": "python",
   "name": "python3"
  },
  "language_info": {
   "codemirror_mode": {
    "name": "ipython",
    "version": 3
   },
   "file_extension": ".py",
   "mimetype": "text/x-python",
   "name": "python",
   "nbconvert_exporter": "python",
   "pygments_lexer": "ipython3",
   "version": "3.9.15"
  }
 },
 "nbformat": 4,
 "nbformat_minor": 5
}
